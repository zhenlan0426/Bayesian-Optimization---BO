{
 "cells": [
  {
   "cell_type": "code",
   "execution_count": 1,
   "id": "9eaf8092",
   "metadata": {},
   "outputs": [],
   "source": [
    "import numpy as np\n",
    "import pandas as pd\n",
    "from xgboost import XGBRegressor\n",
    "from sklearn.model_selection import KFold"
   ]
  },
  {
   "cell_type": "code",
   "execution_count": 2,
   "id": "4105d76c",
   "metadata": {},
   "outputs": [],
   "source": [
    "X_train = pd.read_csv('./input/X_train.csv')\n",
    "y_train = pd.read_csv('./input/y_train.csv').iloc[:,0]"
   ]
  },
  {
   "cell_type": "code",
   "execution_count": null,
   "id": "8d2fccf4",
   "metadata": {},
   "outputs": [],
   "source": []
  },
  {
   "cell_type": "code",
   "execution_count": 3,
   "id": "1a030526",
   "metadata": {},
   "outputs": [],
   "source": [
    "# TODO: target transformation"
   ]
  },
  {
   "cell_type": "code",
   "execution_count": 6,
   "id": "32116c78",
   "metadata": {},
   "outputs": [],
   "source": [
    "log_rmse = lambda yhat,y: np.sqrt(np.mean((np.log(1+y) - np.log(1+yhat))**2))\n",
    "def xgboost2perf(learning_rate,max_depth,min_child_weight,gamma,alpha,reg_lambda,\\\n",
    "                 subsample,colsample_bytree,objective,tree_method):\n",
    "\n",
    "    xgboost = XGBRegressor(learning_rate=learning_rate,\\\n",
    "                           n_estimators=600,\\\n",
    "                           nthread=-1,\\\n",
    "                           \n",
    "                           max_depth=max_depth,\\\n",
    "                           min_child_weight=min_child_weight,\\\n",
    "                           gamma=gamma,\\\n",
    "                           alpha=alpha,\\\n",
    "                           reg_lambda=reg_lambda,\\\n",
    "                           subsample=subsample,\\\n",
    "                           colsample_bytree=colsample_bytree,\\\n",
    "                           objective=objective,\\\n",
    "                           tree_method=tree_method\n",
    "                           )\n",
    "\n",
    "    score = 0\n",
    "    n_fold = 6\n",
    "    kf = KFold(n_fold,shuffle=True,random_state=7)\n",
    "    for train_index, test_index in kf.split(X_train):\n",
    "        xgboost.fit(X_train.iloc[train_index],y_train.iloc[train_index]);\n",
    "        yhat = np.maximum(xgboost.predict(X_train.iloc[test_index]),0)\n",
    "        score += log_rmse(yhat,y_train.iloc[test_index])\n",
    "    score /= n_fold\n",
    "    return score"
   ]
  },
  {
   "cell_type": "code",
   "execution_count": 7,
   "id": "6030a788",
   "metadata": {},
   "outputs": [],
   "source": [
    "# generate 10 initial random points\n",
    "bounds = [[0.1,0.6],[2,16],[1.0,100.0],\\\n",
    "          [0.0,100.0],[0.0,100.0],[0.0,100.0],\\\n",
    "          [0.25,1.0],[0.25,1.0],\\\n",
    "          ['reg:squarederror','reg:absoluteerror','reg:gamma','count:poisson'],['exact','hist']]\n",
    "\n",
    "parameters = []\n",
    "scores = []\n",
    "for _ in range(10):\n",
    "    parameter = []\n",
    "    for b in bounds:\n",
    "        if isinstance(b[0],str):\n",
    "            parameter.append(np.random.choice(b))\n",
    "        elif isinstance(b[0],int):\n",
    "            parameter.append(int(b[0]+(b[1]-b[0])*np.random.rand()))\n",
    "        else:\n",
    "            parameter.append(b[0]+(b[1]-b[0])*np.random.rand())\n",
    "    score = xgboost2perf(*parameter)\n",
    "    scores.append(score)\n",
    "    parameters.append(parameter)\n",
    "\n",
    "parameters = pd.DataFrame(parameters,columns=['learning_rate', 'max_depth', 'min_child_weight', 'gamma', 'alpha', 'reg_lambda', 'subsample', 'colsample_bytree', 'objective', 'tree_method'])\n",
    "parameters.to_csv('./input/parameters.csv',index=False)\n",
    "scores = pd.DataFrame(scores,columns=['scores'])\n",
    "scores.to_csv('./input/scores.csv')"
   ]
  },
  {
   "cell_type": "code",
   "execution_count": null,
   "id": "8acfcd1b",
   "metadata": {},
   "outputs": [],
   "source": []
  }
 ],
 "metadata": {
  "kernelspec": {
   "display_name": "Python 3 (ipykernel)",
   "language": "python",
   "name": "python3"
  },
  "language_info": {
   "codemirror_mode": {
    "name": "ipython",
    "version": 3
   },
   "file_extension": ".py",
   "mimetype": "text/x-python",
   "name": "python",
   "nbconvert_exporter": "python",
   "pygments_lexer": "ipython3",
   "version": "3.10.9"
  }
 },
 "nbformat": 4,
 "nbformat_minor": 5
}
