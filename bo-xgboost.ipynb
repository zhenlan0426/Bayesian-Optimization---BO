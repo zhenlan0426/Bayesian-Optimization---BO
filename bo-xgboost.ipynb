{
 "cells": [
  {
   "cell_type": "code",
   "execution_count": 1,
   "metadata": {
    "execution": {
     "iopub.execute_input": "2023-05-23T19:34:14.426967Z",
     "iopub.status.busy": "2023-05-23T19:34:14.426586Z",
     "iopub.status.idle": "2023-05-23T19:34:15.107224Z",
     "shell.execute_reply": "2023-05-23T19:34:15.106092Z",
     "shell.execute_reply.started": "2023-05-23T19:34:14.426931Z"
    }
   },
   "outputs": [],
   "source": [
    "import numpy as np\n",
    "import pandas as pd\n",
    "from xgboost import XGBRegressor\n",
    "from sklearn.model_selection import KFold\n",
    "from utility import *\n",
    "from botorch.acquisition.analytic import ExpectedImprovement,ProbabilityOfImprovement,UpperConfidenceBound"
   ]
  },
  {
   "cell_type": "code",
   "execution_count": 2,
   "metadata": {
    "execution": {
     "iopub.execute_input": "2023-05-23T19:34:18.734889Z",
     "iopub.status.busy": "2023-05-23T19:34:18.734076Z",
     "iopub.status.idle": "2023-05-23T19:34:18.810696Z",
     "shell.execute_reply": "2023-05-23T19:34:18.809869Z",
     "shell.execute_reply.started": "2023-05-23T19:34:18.734845Z"
    }
   },
   "outputs": [],
   "source": [
    "X_train = pd.read_csv('./input/X_train.csv')\n",
    "y_train = pd.read_csv('./input/y_train.csv').iloc[:,0]\n",
    "parameter = pd.read_csv('./input/parameters.csv')\n",
    "score = -pd.read_csv('./input/scores.csv').iloc[:,1:]"
   ]
  },
  {
   "cell_type": "code",
   "execution_count": 3,
   "metadata": {
    "execution": {
     "iopub.execute_input": "2023-05-23T19:34:18.812972Z",
     "iopub.status.busy": "2023-05-23T19:34:18.812305Z",
     "iopub.status.idle": "2023-05-23T19:34:18.823689Z",
     "shell.execute_reply": "2023-05-23T19:34:18.822585Z",
     "shell.execute_reply.started": "2023-05-23T19:34:18.812933Z"
    }
   },
   "outputs": [],
   "source": [
    "log_rmse = lambda yhat,y: np.sqrt(np.mean((np.log(1+y) - np.log(1+yhat))**2))\n",
    "def xgboost2perf(learning_rate,max_depth,min_child_weight,gamma,alpha,reg_lambda,\\\n",
    "                 subsample,colsample_bytree,objective,tree_method):\n",
    "\n",
    "    xgboost = XGBRegressor(learning_rate=learning_rate,\\\n",
    "                           n_estimators=600,\\\n",
    "                           nthread=-1,\\\n",
    "                           \n",
    "                           max_depth=max_depth,\\\n",
    "                           min_child_weight=min_child_weight,\\\n",
    "                           gamma=gamma,\\\n",
    "                           alpha=alpha,\\\n",
    "                           reg_lambda=reg_lambda,\\\n",
    "                           subsample=subsample,\\\n",
    "                           colsample_bytree=colsample_bytree,\\\n",
    "                           objective=objective,\\\n",
    "                           tree_method=tree_method\n",
    "                           )\n",
    "\n",
    "    score = 0\n",
    "    n_fold = 6\n",
    "    kf = KFold(n_fold,shuffle=True,random_state=7)\n",
    "    for train_index, test_index in kf.split(X_train):\n",
    "        xgboost.fit(X_train.iloc[train_index],y_train.iloc[train_index]);\n",
    "        yhat = np.maximum(xgboost.predict(X_train.iloc[test_index]),0)\n",
    "        score += log_rmse(yhat,y_train.iloc[test_index])\n",
    "    score /= n_fold\n",
    "    return -score # min -> max"
   ]
  },
  {
   "cell_type": "code",
   "execution_count": null,
   "metadata": {},
   "outputs": [],
   "source": []
  },
  {
   "cell_type": "code",
   "execution_count": 4,
   "metadata": {
    "execution": {
     "iopub.execute_input": "2023-05-23T21:11:24.969717Z",
     "iopub.status.busy": "2023-05-23T21:11:24.969129Z",
     "iopub.status.idle": "2023-05-23T21:11:24.976186Z",
     "shell.execute_reply": "2023-05-23T21:11:24.974899Z",
     "shell.execute_reply.started": "2023-05-23T21:11:24.969685Z"
    }
   },
   "outputs": [],
   "source": [
    "# 'reg:squaredlogerror' and 'reg:pseudohubererror' does not work\n",
    "cat_feat = {'objective':{'reg:squarederror':0,'reg:absoluteerror':1,'reg:gamma':2,'count:poisson':3},\\\n",
    "            'tree_method':{'exact':0,'hist':1}}\n",
    "bounds = [[0.1,0.6],[2,16],[1.0,100.0],\\\n",
    "          [0.0,100.0],[0.0,100.0],[0.0,100.0],\\\n",
    "          [0.25,1.0],[0.25,1.0]]\n",
    "IsMax = False\n",
    "integer = [1,]"
   ]
  },
  {
   "cell_type": "code",
   "execution_count": 5,
   "metadata": {
    "execution": {
     "iopub.execute_input": "2023-05-23T22:10:33.171871Z",
     "iopub.status.busy": "2023-05-23T22:10:33.171390Z",
     "iopub.status.idle": "2023-05-23T22:10:33.177653Z",
     "shell.execute_reply": "2023-05-23T22:10:33.176357Z",
     "shell.execute_reply.started": "2023-05-23T22:10:33.171805Z"
    }
   },
   "outputs": [],
   "source": [
    "T = Transform(cat_feat,integer,bounds)"
   ]
  },
  {
   "cell_type": "code",
   "execution_count": 6,
   "metadata": {
    "execution": {
     "iopub.execute_input": "2023-05-23T22:10:36.551554Z",
     "iopub.status.busy": "2023-05-23T22:10:36.551141Z",
     "iopub.status.idle": "2023-05-23T22:10:36.557700Z",
     "shell.execute_reply": "2023-05-23T22:10:36.556564Z",
     "shell.execute_reply.started": "2023-05-23T22:10:36.551518Z"
    }
   },
   "outputs": [],
   "source": [
    "bo_parameters = {'acq_fun': ExpectedImprovement,\\\n",
    "                'acq_kwargs': {},\\\n",
    "                 #'fit': fit_gpytorch_mll,\\\n",
    "                'BaseKernel': MaternKernel,\\\n",
    "                'eps': 0.6,\\\n",
    "                'q': 1,\\\n",
    "                'num_restarts': 12,\\\n",
    "                'raw_samples': 256,\\\n",
    "                'Bo_iter': 100,\\\n",
    "                'verbose': 10\n",
    "                }"
   ]
  },
  {
   "cell_type": "code",
   "execution_count": 7,
   "metadata": {
    "execution": {
     "iopub.execute_input": "2023-05-23T22:10:39.151305Z",
     "iopub.status.busy": "2023-05-23T22:10:39.150163Z"
    }
   },
   "outputs": [
    {
     "name": "stdout",
     "output_type": "stream",
     "text": [
      "best val is -0.1569850825272283 at iter 10\n",
      "best val is -0.15519789704000098 at iter 20\n",
      "best val is -0.15002993745557375 at iter 30\n",
      "best val is -0.14243553952720947 at iter 40\n",
      "best val is -0.14182616571363452 at iter 50\n",
      "best val is -0.14036883522436364 at iter 60\n",
      "best val is -0.12171523575568416 at iter 70\n",
      "best val is -0.12156883301501548 at iter 80\n",
      "best val is -0.1211020291162996 at iter 90\n",
      "best val is -0.12072101592264238 at iter 100\n"
     ]
    }
   ],
   "source": [
    "#%debug\n",
    "# import warnings\n",
    "# warnings.filterwarnings('ignore')\n",
    "x_best,y_best,x,y,model = BO(xgboost2perf,parameter,score,T,**bo_parameters)"
   ]
  },
  {
   "cell_type": "code",
   "execution_count": 9,
   "metadata": {},
   "outputs": [
    {
     "data": {
      "text/html": [
       "<div>\n",
       "<style scoped>\n",
       "    .dataframe tbody tr th:only-of-type {\n",
       "        vertical-align: middle;\n",
       "    }\n",
       "\n",
       "    .dataframe tbody tr th {\n",
       "        vertical-align: top;\n",
       "    }\n",
       "\n",
       "    .dataframe thead th {\n",
       "        text-align: right;\n",
       "    }\n",
       "</style>\n",
       "<table border=\"1\" class=\"dataframe\">\n",
       "  <thead>\n",
       "    <tr style=\"text-align: right;\">\n",
       "      <th></th>\n",
       "      <th>learning_rate</th>\n",
       "      <th>max_depth</th>\n",
       "      <th>min_child_weight</th>\n",
       "      <th>gamma</th>\n",
       "      <th>alpha</th>\n",
       "      <th>reg_lambda</th>\n",
       "      <th>subsample</th>\n",
       "      <th>colsample_bytree</th>\n",
       "      <th>objective</th>\n",
       "      <th>tree_method</th>\n",
       "      <th>scores</th>\n",
       "    </tr>\n",
       "  </thead>\n",
       "  <tbody>\n",
       "    <tr>\n",
       "      <th>0</th>\n",
       "      <td>0.100000</td>\n",
       "      <td>3</td>\n",
       "      <td>77.122053</td>\n",
       "      <td>0.000000</td>\n",
       "      <td>52.740566</td>\n",
       "      <td>35.671372</td>\n",
       "      <td>0.558517</td>\n",
       "      <td>0.435898</td>\n",
       "      <td>count:poisson</td>\n",
       "      <td>hist</td>\n",
       "      <td>-0.120721</td>\n",
       "    </tr>\n",
       "    <tr>\n",
       "      <th>0</th>\n",
       "      <td>0.100000</td>\n",
       "      <td>3</td>\n",
       "      <td>77.618448</td>\n",
       "      <td>0.000000</td>\n",
       "      <td>53.183083</td>\n",
       "      <td>35.082906</td>\n",
       "      <td>0.558507</td>\n",
       "      <td>0.437715</td>\n",
       "      <td>count:poisson</td>\n",
       "      <td>hist</td>\n",
       "      <td>-0.121102</td>\n",
       "    </tr>\n",
       "    <tr>\n",
       "      <th>0</th>\n",
       "      <td>0.100000</td>\n",
       "      <td>3</td>\n",
       "      <td>76.864070</td>\n",
       "      <td>0.000000</td>\n",
       "      <td>52.764747</td>\n",
       "      <td>36.122816</td>\n",
       "      <td>0.556498</td>\n",
       "      <td>0.436855</td>\n",
       "      <td>count:poisson</td>\n",
       "      <td>hist</td>\n",
       "      <td>-0.121217</td>\n",
       "    </tr>\n",
       "    <tr>\n",
       "      <th>0</th>\n",
       "      <td>0.100000</td>\n",
       "      <td>3</td>\n",
       "      <td>77.866601</td>\n",
       "      <td>0.000000</td>\n",
       "      <td>53.429737</td>\n",
       "      <td>34.975479</td>\n",
       "      <td>0.558275</td>\n",
       "      <td>0.437907</td>\n",
       "      <td>count:poisson</td>\n",
       "      <td>hist</td>\n",
       "      <td>-0.121260</td>\n",
       "    </tr>\n",
       "    <tr>\n",
       "      <th>0</th>\n",
       "      <td>0.100000</td>\n",
       "      <td>3</td>\n",
       "      <td>77.014462</td>\n",
       "      <td>0.000000</td>\n",
       "      <td>52.812075</td>\n",
       "      <td>35.904699</td>\n",
       "      <td>0.558154</td>\n",
       "      <td>0.436729</td>\n",
       "      <td>count:poisson</td>\n",
       "      <td>hist</td>\n",
       "      <td>-0.121350</td>\n",
       "    </tr>\n",
       "    <tr>\n",
       "      <th>...</th>\n",
       "      <td>...</td>\n",
       "      <td>...</td>\n",
       "      <td>...</td>\n",
       "      <td>...</td>\n",
       "      <td>...</td>\n",
       "      <td>...</td>\n",
       "      <td>...</td>\n",
       "      <td>...</td>\n",
       "      <td>...</td>\n",
       "      <td>...</td>\n",
       "      <td>...</td>\n",
       "    </tr>\n",
       "    <tr>\n",
       "      <th>6</th>\n",
       "      <td>0.326054</td>\n",
       "      <td>3</td>\n",
       "      <td>11.919477</td>\n",
       "      <td>28.552929</td>\n",
       "      <td>76.890287</td>\n",
       "      <td>54.607057</td>\n",
       "      <td>0.502535</td>\n",
       "      <td>0.795976</td>\n",
       "      <td>reg:absoluteerror</td>\n",
       "      <td>hist</td>\n",
       "      <td>-0.284340</td>\n",
       "    </tr>\n",
       "    <tr>\n",
       "      <th>9</th>\n",
       "      <td>0.427221</td>\n",
       "      <td>3</td>\n",
       "      <td>80.484861</td>\n",
       "      <td>47.357331</td>\n",
       "      <td>82.625859</td>\n",
       "      <td>91.327121</td>\n",
       "      <td>0.375483</td>\n",
       "      <td>0.492813</td>\n",
       "      <td>reg:absoluteerror</td>\n",
       "      <td>exact</td>\n",
       "      <td>-0.400163</td>\n",
       "    </tr>\n",
       "    <tr>\n",
       "      <th>1</th>\n",
       "      <td>0.280107</td>\n",
       "      <td>2</td>\n",
       "      <td>79.122748</td>\n",
       "      <td>94.706736</td>\n",
       "      <td>85.902933</td>\n",
       "      <td>7.053940</td>\n",
       "      <td>0.282078</td>\n",
       "      <td>0.522069</td>\n",
       "      <td>reg:absoluteerror</td>\n",
       "      <td>hist</td>\n",
       "      <td>-0.401253</td>\n",
       "    </tr>\n",
       "    <tr>\n",
       "      <th>2</th>\n",
       "      <td>0.403225</td>\n",
       "      <td>3</td>\n",
       "      <td>38.475863</td>\n",
       "      <td>72.333209</td>\n",
       "      <td>41.717891</td>\n",
       "      <td>17.955389</td>\n",
       "      <td>0.535492</td>\n",
       "      <td>0.305701</td>\n",
       "      <td>reg:gamma</td>\n",
       "      <td>exact</td>\n",
       "      <td>-0.402244</td>\n",
       "    </tr>\n",
       "    <tr>\n",
       "      <th>4</th>\n",
       "      <td>0.450057</td>\n",
       "      <td>5</td>\n",
       "      <td>7.628559</td>\n",
       "      <td>35.718665</td>\n",
       "      <td>33.163884</td>\n",
       "      <td>30.461418</td>\n",
       "      <td>0.627340</td>\n",
       "      <td>0.649008</td>\n",
       "      <td>reg:gamma</td>\n",
       "      <td>hist</td>\n",
       "      <td>-0.404789</td>\n",
       "    </tr>\n",
       "  </tbody>\n",
       "</table>\n",
       "<p>110 rows × 11 columns</p>\n",
       "</div>"
      ],
      "text/plain": [
       "    learning_rate  max_depth  min_child_weight      gamma      alpha  \\\n",
       "0        0.100000          3         77.122053   0.000000  52.740566   \n",
       "0        0.100000          3         77.618448   0.000000  53.183083   \n",
       "0        0.100000          3         76.864070   0.000000  52.764747   \n",
       "0        0.100000          3         77.866601   0.000000  53.429737   \n",
       "0        0.100000          3         77.014462   0.000000  52.812075   \n",
       "..            ...        ...               ...        ...        ...   \n",
       "6        0.326054          3         11.919477  28.552929  76.890287   \n",
       "9        0.427221          3         80.484861  47.357331  82.625859   \n",
       "1        0.280107          2         79.122748  94.706736  85.902933   \n",
       "2        0.403225          3         38.475863  72.333209  41.717891   \n",
       "4        0.450057          5          7.628559  35.718665  33.163884   \n",
       "\n",
       "    reg_lambda  subsample  colsample_bytree          objective tree_method  \\\n",
       "0    35.671372   0.558517          0.435898      count:poisson        hist   \n",
       "0    35.082906   0.558507          0.437715      count:poisson        hist   \n",
       "0    36.122816   0.556498          0.436855      count:poisson        hist   \n",
       "0    34.975479   0.558275          0.437907      count:poisson        hist   \n",
       "0    35.904699   0.558154          0.436729      count:poisson        hist   \n",
       "..         ...        ...               ...                ...         ...   \n",
       "6    54.607057   0.502535          0.795976  reg:absoluteerror        hist   \n",
       "9    91.327121   0.375483          0.492813  reg:absoluteerror       exact   \n",
       "1     7.053940   0.282078          0.522069  reg:absoluteerror        hist   \n",
       "2    17.955389   0.535492          0.305701          reg:gamma       exact   \n",
       "4    30.461418   0.627340          0.649008          reg:gamma        hist   \n",
       "\n",
       "      scores  \n",
       "0  -0.120721  \n",
       "0  -0.121102  \n",
       "0  -0.121217  \n",
       "0  -0.121260  \n",
       "0  -0.121350  \n",
       "..       ...  \n",
       "6  -0.284340  \n",
       "9  -0.400163  \n",
       "1  -0.401253  \n",
       "2  -0.402244  \n",
       "4  -0.404789  \n",
       "\n",
       "[110 rows x 11 columns]"
      ]
     },
     "execution_count": 9,
     "metadata": {},
     "output_type": "execute_result"
    }
   ],
   "source": [
    "pd.concat([x,y],1).sort_values(by=['scores'],ascending=False)"
   ]
  },
  {
   "cell_type": "code",
   "execution_count": 11,
   "metadata": {},
   "outputs": [
    {
     "name": "stdout",
     "output_type": "stream",
     "text": [
      "best val is -0.12072101592264238 at iter 10\n",
      "best val is -0.12072101592264238 at iter 20\n",
      "best val is -0.12072101592264238 at iter 30\n",
      "best val is -0.12072101592264238 at iter 40\n",
      "best val is -0.12072101592264238 at iter 50\n",
      "best val is -0.12072101592264238 at iter 60\n",
      "best val is -0.12072101592264238 at iter 70\n",
      "best val is -0.12072101592264238 at iter 80\n",
      "best val is -0.12072101592264238 at iter 90\n",
      "best val is -0.12072101592264238 at iter 100\n"
     ]
    }
   ],
   "source": [
    "x_best,y_best,x,y,model = BO(xgboost2perf,x,y,T,**bo_parameters)"
   ]
  },
  {
   "cell_type": "code",
   "execution_count": 36,
   "metadata": {},
   "outputs": [],
   "source": [
    "pd.concat([x,y],1).sort_values(by=['scores'],ascending=False).iloc[0:1,:-1].to_csv('best_para.csv',index=False)"
   ]
  },
  {
   "cell_type": "code",
   "execution_count": null,
   "metadata": {},
   "outputs": [],
   "source": []
  },
  {
   "cell_type": "code",
   "execution_count": null,
   "metadata": {},
   "outputs": [],
   "source": []
  },
  {
   "cell_type": "code",
   "execution_count": 18,
   "metadata": {},
   "outputs": [],
   "source": [
    "x_tor,y_tor = T.forward(x,y)"
   ]
  },
  {
   "cell_type": "code",
   "execution_count": 19,
   "metadata": {},
   "outputs": [],
   "source": [
    "model = initialize_model(x_tor,y_tor, MaternKernel)\n",
    "h = model.register_forward_pre_hook(hook_factory(T))"
   ]
  },
  {
   "cell_type": "code",
   "execution_count": 20,
   "metadata": {},
   "outputs": [],
   "source": [
    "d0 = 8;d1 = 6;\n",
    "bounds = torch.tensor([[0.0] * d0 + [-10] * d1, [1.0] * d0 + [10] * d1], device=device, dtype=dtype)    \n",
    "bounds2 = torch.tensor([[0.0] * (d0+d1), [1.0] * (d0+d1)], device=device, dtype=dtype)    "
   ]
  },
  {
   "cell_type": "code",
   "execution_count": 21,
   "metadata": {},
   "outputs": [],
   "source": [
    "from botorch.acquisition.analytic import AnalyticAcquisitionFunction\n",
    "class Mean_std(AnalyticAcquisitionFunction):\n",
    "    def __init__(self,model,beta) -> None:\n",
    "        super().__init__(model=model)\n",
    "        self.beta = beta\n",
    "\n",
    "    def forward(self, X):\n",
    "        mean, std = self._mean_and_sigma(X, compute_sigma=True)\n",
    "        return mean - self.beta * std"
   ]
  },
  {
   "cell_type": "code",
   "execution_count": 27,
   "metadata": {},
   "outputs": [],
   "source": [
    "mean_fun = Mean_std(model,0)\n",
    "#mean_fun = ExpectedImprovement(model,-y.min().values[0])"
   ]
  },
  {
   "cell_type": "code",
   "execution_count": 28,
   "metadata": {
    "scrolled": true
   },
   "outputs": [
    {
     "name": "stdout",
     "output_type": "stream",
     "text": [
      "tensor(0.4412, dtype=torch.float64)\n"
     ]
    },
    {
     "data": {
      "text/plain": [
       "-0.1232718809117837"
      ]
     },
     "execution_count": 28,
     "metadata": {},
     "output_type": "execute_result"
    }
   ],
   "source": [
    "#%debug\n",
    "x_best,y_val = optimize_acqf(mean_fun,bounds2,q=1,num_restarts=256,raw_samples=1024)\n",
    "print(y_val)\n",
    "xgboost2perf(*T.backward(x_best[0]))"
   ]
  },
  {
   "cell_type": "code",
   "execution_count": 29,
   "metadata": {},
   "outputs": [
    {
     "name": "stdout",
     "output_type": "stream",
     "text": [
      "tensor(-3.0380, dtype=torch.float64)\n"
     ]
    },
    {
     "data": {
      "text/plain": [
       "-0.15119561623424996"
      ]
     },
     "execution_count": 29,
     "metadata": {},
     "output_type": "execute_result"
    }
   ],
   "source": [
    "x_best,y_val = optimize_acqf(mean_fun,bounds,q=1,num_restarts=256,raw_samples=1024)\n",
    "print(y_val)\n",
    "xgboost2perf(*T.backward(x_best[0]))"
   ]
  },
  {
   "cell_type": "code",
   "execution_count": null,
   "metadata": {},
   "outputs": [],
   "source": [
    "mean_fun."
   ]
  },
  {
   "cell_type": "code",
   "execution_count": 240,
   "metadata": {},
   "outputs": [
    {
     "data": {
      "text/plain": [
       "tensor(0.8417, dtype=torch.float64)"
      ]
     },
     "execution_count": 240,
     "metadata": {},
     "output_type": "execute_result"
    }
   ],
   "source": [
    "y_val"
   ]
  },
  {
   "cell_type": "code",
   "execution_count": 231,
   "metadata": {},
   "outputs": [
    {
     "data": {
      "text/plain": [
       "(tensor(0.8417, dtype=torch.float64, grad_fn=<SubBackward0>),\n",
       " tensor(0.8417, dtype=torch.float64))"
      ]
     },
     "execution_count": 231,
     "metadata": {},
     "output_type": "execute_result"
    }
   ],
   "source": [
    "mean_fun(x_best),y_val"
   ]
  },
  {
   "cell_type": "code",
   "execution_count": null,
   "metadata": {},
   "outputs": [],
   "source": []
  },
  {
   "cell_type": "code",
   "execution_count": 268,
   "metadata": {},
   "outputs": [
    {
     "data": {
      "text/plain": [
       "tensor(-1.2457, dtype=torch.float64, grad_fn=<SubBackward0>)"
      ]
     },
     "execution_count": 268,
     "metadata": {},
     "output_type": "execute_result"
    }
   ],
   "source": [
    "ra = torch.rand(1,14)\n",
    "mean_fun(ra)"
   ]
  },
  {
   "cell_type": "code",
   "execution_count": 198,
   "metadata": {},
   "outputs": [
    {
     "data": {
      "text/plain": [
       "tensor([[0.3890, 0.2940, 0.0924, 0.2107, 0.2541, 0.4947, 0.9023, 0.0691, 0.3328,\n",
       "         0.1652, 0.0317, 0.6529, 0.1729, 0.9956]])"
      ]
     },
     "execution_count": 198,
     "metadata": {},
     "output_type": "execute_result"
    }
   ],
   "source": [
    "ra"
   ]
  },
  {
   "cell_type": "code",
   "execution_count": null,
   "metadata": {},
   "outputs": [],
   "source": []
  },
  {
   "cell_type": "code",
   "execution_count": null,
   "metadata": {},
   "outputs": [],
   "source": []
  },
  {
   "cell_type": "code",
   "execution_count": null,
   "metadata": {},
   "outputs": [],
   "source": []
  },
  {
   "cell_type": "code",
   "execution_count": null,
   "metadata": {},
   "outputs": [],
   "source": [
    "bo_parameters = {'acq_fun': ProbabilityOfImprovement,\\\n",
    "                'acq_kwargs': {},\\\n",
    "                 #'fit': fit_gpytorch_mll,\\\n",
    "                'BaseKernel': MaternKernel,\\\n",
    "                'eps': 0.6,\\\n",
    "                'q': 1,\\\n",
    "                'num_restarts': 12,\\\n",
    "                'raw_samples': 256,\\\n",
    "                'Bo_iter': 100,\\\n",
    "                'verbose': 10\n",
    "                }"
   ]
  },
  {
   "cell_type": "code",
   "execution_count": 10,
   "metadata": {},
   "outputs": [
    {
     "name": "stdout",
     "output_type": "stream",
     "text": [
      "best val is 0.12337354963815306 at iter 10\n",
      "best val is 0.12337354963815306 at iter 20\n",
      "best val is 0.12337354963815306 at iter 30\n",
      "best val is 0.12337354963815306 at iter 40\n",
      "best val is 0.12337354963815306 at iter 50\n",
      "best val is 0.12279163292531943 at iter 60\n",
      "best val is 0.12279163292531943 at iter 70\n",
      "best val is 0.12279163292531943 at iter 80\n",
      "best val is 0.12279163292531943 at iter 90\n",
      "best val is 0.12279163292531943 at iter 100\n",
      "best val is 0.12279163292531943 at iter 110\n",
      "best val is 0.12279163292531943 at iter 120\n",
      "best val is 0.12279163292531943 at iter 130\n",
      "best val is 0.12279163292531943 at iter 140\n",
      "best val is 0.12279163292531943 at iter 150\n",
      "best val is 0.12279163292531943 at iter 160\n",
      "best val is 0.12279163292531943 at iter 170\n",
      "best val is 0.12279163292531943 at iter 180\n",
      "best val is 0.12279163292531943 at iter 190\n",
      "best val is 0.12279163292531943 at iter 200\n"
     ]
    }
   ],
   "source": [
    "x_best,y_best,x,y,model = BO(xgboost2perf,x,y,T,**bo_parameters)"
   ]
  },
  {
   "cell_type": "code",
   "execution_count": 11,
   "metadata": {},
   "outputs": [
    {
     "data": {
      "text/html": [
       "<div>\n",
       "<style scoped>\n",
       "    .dataframe tbody tr th:only-of-type {\n",
       "        vertical-align: middle;\n",
       "    }\n",
       "\n",
       "    .dataframe tbody tr th {\n",
       "        vertical-align: top;\n",
       "    }\n",
       "\n",
       "    .dataframe thead th {\n",
       "        text-align: right;\n",
       "    }\n",
       "</style>\n",
       "<table border=\"1\" class=\"dataframe\">\n",
       "  <thead>\n",
       "    <tr style=\"text-align: right;\">\n",
       "      <th></th>\n",
       "      <th>learning_rate</th>\n",
       "      <th>max_depth</th>\n",
       "      <th>min_child_weight</th>\n",
       "      <th>gamma</th>\n",
       "      <th>alpha</th>\n",
       "      <th>reg_lambda</th>\n",
       "      <th>subsample</th>\n",
       "      <th>colsample_bytree</th>\n",
       "      <th>objective</th>\n",
       "      <th>tree_method</th>\n",
       "      <th>scores</th>\n",
       "    </tr>\n",
       "  </thead>\n",
       "  <tbody>\n",
       "    <tr>\n",
       "      <th>0</th>\n",
       "      <td>0.217204</td>\n",
       "      <td>3</td>\n",
       "      <td>4.032077</td>\n",
       "      <td>89.312063</td>\n",
       "      <td>68.737098</td>\n",
       "      <td>42.446055</td>\n",
       "      <td>0.793581</td>\n",
       "      <td>0.863480</td>\n",
       "      <td>count:poisson</td>\n",
       "      <td>exact</td>\n",
       "      <td>0.122792</td>\n",
       "    </tr>\n",
       "    <tr>\n",
       "      <th>0</th>\n",
       "      <td>0.112490</td>\n",
       "      <td>3</td>\n",
       "      <td>33.838821</td>\n",
       "      <td>55.609864</td>\n",
       "      <td>35.352550</td>\n",
       "      <td>77.994761</td>\n",
       "      <td>0.847249</td>\n",
       "      <td>0.798098</td>\n",
       "      <td>count:poisson</td>\n",
       "      <td>hist</td>\n",
       "      <td>0.123163</td>\n",
       "    </tr>\n",
       "    <tr>\n",
       "      <th>0</th>\n",
       "      <td>0.138227</td>\n",
       "      <td>2</td>\n",
       "      <td>82.783443</td>\n",
       "      <td>87.391227</td>\n",
       "      <td>24.874815</td>\n",
       "      <td>28.739450</td>\n",
       "      <td>0.798733</td>\n",
       "      <td>0.643011</td>\n",
       "      <td>count:poisson</td>\n",
       "      <td>exact</td>\n",
       "      <td>0.123374</td>\n",
       "    </tr>\n",
       "    <tr>\n",
       "      <th>0</th>\n",
       "      <td>0.171430</td>\n",
       "      <td>2</td>\n",
       "      <td>63.797034</td>\n",
       "      <td>54.209098</td>\n",
       "      <td>49.586350</td>\n",
       "      <td>49.026413</td>\n",
       "      <td>0.637314</td>\n",
       "      <td>0.486718</td>\n",
       "      <td>count:poisson</td>\n",
       "      <td>hist</td>\n",
       "      <td>0.123925</td>\n",
       "    </tr>\n",
       "    <tr>\n",
       "      <th>0</th>\n",
       "      <td>0.109649</td>\n",
       "      <td>2</td>\n",
       "      <td>81.560307</td>\n",
       "      <td>30.995282</td>\n",
       "      <td>64.987504</td>\n",
       "      <td>89.510713</td>\n",
       "      <td>0.639748</td>\n",
       "      <td>0.749652</td>\n",
       "      <td>count:poisson</td>\n",
       "      <td>hist</td>\n",
       "      <td>0.125633</td>\n",
       "    </tr>\n",
       "    <tr>\n",
       "      <th>...</th>\n",
       "      <td>...</td>\n",
       "      <td>...</td>\n",
       "      <td>...</td>\n",
       "      <td>...</td>\n",
       "      <td>...</td>\n",
       "      <td>...</td>\n",
       "      <td>...</td>\n",
       "      <td>...</td>\n",
       "      <td>...</td>\n",
       "      <td>...</td>\n",
       "      <td>...</td>\n",
       "    </tr>\n",
       "    <tr>\n",
       "      <th>0</th>\n",
       "      <td>0.151224</td>\n",
       "      <td>5</td>\n",
       "      <td>27.591647</td>\n",
       "      <td>70.100847</td>\n",
       "      <td>20.921677</td>\n",
       "      <td>43.097579</td>\n",
       "      <td>0.511635</td>\n",
       "      <td>0.564218</td>\n",
       "      <td>reg:gamma</td>\n",
       "      <td>hist</td>\n",
       "      <td>0.406419</td>\n",
       "    </tr>\n",
       "    <tr>\n",
       "      <th>0</th>\n",
       "      <td>0.185521</td>\n",
       "      <td>14</td>\n",
       "      <td>9.883601</td>\n",
       "      <td>54.634533</td>\n",
       "      <td>19.348101</td>\n",
       "      <td>17.742480</td>\n",
       "      <td>0.395278</td>\n",
       "      <td>0.760470</td>\n",
       "      <td>reg:gamma</td>\n",
       "      <td>hist</td>\n",
       "      <td>0.406935</td>\n",
       "    </tr>\n",
       "    <tr>\n",
       "      <th>0</th>\n",
       "      <td>0.149578</td>\n",
       "      <td>6</td>\n",
       "      <td>12.780756</td>\n",
       "      <td>56.191086</td>\n",
       "      <td>8.357147</td>\n",
       "      <td>3.998911</td>\n",
       "      <td>0.429913</td>\n",
       "      <td>0.455019</td>\n",
       "      <td>reg:gamma</td>\n",
       "      <td>hist</td>\n",
       "      <td>0.406968</td>\n",
       "    </tr>\n",
       "    <tr>\n",
       "      <th>0</th>\n",
       "      <td>0.586300</td>\n",
       "      <td>12</td>\n",
       "      <td>55.966766</td>\n",
       "      <td>58.363899</td>\n",
       "      <td>4.782054</td>\n",
       "      <td>99.838437</td>\n",
       "      <td>0.267627</td>\n",
       "      <td>0.987522</td>\n",
       "      <td>reg:gamma</td>\n",
       "      <td>hist</td>\n",
       "      <td>0.407123</td>\n",
       "    </tr>\n",
       "    <tr>\n",
       "      <th>0</th>\n",
       "      <td>0.369591</td>\n",
       "      <td>13</td>\n",
       "      <td>2.742694</td>\n",
       "      <td>3.602588</td>\n",
       "      <td>0.141433</td>\n",
       "      <td>93.289171</td>\n",
       "      <td>0.299064</td>\n",
       "      <td>0.632805</td>\n",
       "      <td>reg:absoluteerror</td>\n",
       "      <td>hist</td>\n",
       "      <td>2.310071</td>\n",
       "    </tr>\n",
       "  </tbody>\n",
       "</table>\n",
       "<p>410 rows × 11 columns</p>\n",
       "</div>"
      ],
      "text/plain": [
       "    learning_rate  max_depth  min_child_weight      gamma      alpha  \\\n",
       "0        0.217204          3          4.032077  89.312063  68.737098   \n",
       "0        0.112490          3         33.838821  55.609864  35.352550   \n",
       "0        0.138227          2         82.783443  87.391227  24.874815   \n",
       "0        0.171430          2         63.797034  54.209098  49.586350   \n",
       "0        0.109649          2         81.560307  30.995282  64.987504   \n",
       "..            ...        ...               ...        ...        ...   \n",
       "0        0.151224          5         27.591647  70.100847  20.921677   \n",
       "0        0.185521         14          9.883601  54.634533  19.348101   \n",
       "0        0.149578          6         12.780756  56.191086   8.357147   \n",
       "0        0.586300         12         55.966766  58.363899   4.782054   \n",
       "0        0.369591         13          2.742694   3.602588   0.141433   \n",
       "\n",
       "    reg_lambda  subsample  colsample_bytree          objective tree_method  \\\n",
       "0    42.446055   0.793581          0.863480      count:poisson       exact   \n",
       "0    77.994761   0.847249          0.798098      count:poisson        hist   \n",
       "0    28.739450   0.798733          0.643011      count:poisson       exact   \n",
       "0    49.026413   0.637314          0.486718      count:poisson        hist   \n",
       "0    89.510713   0.639748          0.749652      count:poisson        hist   \n",
       "..         ...        ...               ...                ...         ...   \n",
       "0    43.097579   0.511635          0.564218          reg:gamma        hist   \n",
       "0    17.742480   0.395278          0.760470          reg:gamma        hist   \n",
       "0     3.998911   0.429913          0.455019          reg:gamma        hist   \n",
       "0    99.838437   0.267627          0.987522          reg:gamma        hist   \n",
       "0    93.289171   0.299064          0.632805  reg:absoluteerror        hist   \n",
       "\n",
       "      scores  \n",
       "0   0.122792  \n",
       "0   0.123163  \n",
       "0   0.123374  \n",
       "0   0.123925  \n",
       "0   0.125633  \n",
       "..       ...  \n",
       "0   0.406419  \n",
       "0   0.406935  \n",
       "0   0.406968  \n",
       "0   0.407123  \n",
       "0   2.310071  \n",
       "\n",
       "[410 rows x 11 columns]"
      ]
     },
     "execution_count": 11,
     "metadata": {},
     "output_type": "execute_result"
    }
   ],
   "source": [
    "pd.concat([x,y],1).sort_values(by=['scores'])"
   ]
  },
  {
   "cell_type": "code",
   "execution_count": 12,
   "metadata": {},
   "outputs": [],
   "source": [
    "x.to_csv('bo_x.csv'); y.to_csv('bo_y.csv')"
   ]
  },
  {
   "cell_type": "code",
   "execution_count": null,
   "metadata": {},
   "outputs": [],
   "source": []
  }
 ],
 "metadata": {
  "kernelspec": {
   "display_name": "Python 3 (ipykernel)",
   "language": "python",
   "name": "python3"
  },
  "language_info": {
   "codemirror_mode": {
    "name": "ipython",
    "version": 3
   },
   "file_extension": ".py",
   "mimetype": "text/x-python",
   "name": "python",
   "nbconvert_exporter": "python",
   "pygments_lexer": "ipython3",
   "version": "3.10.9"
  }
 },
 "nbformat": 4,
 "nbformat_minor": 4
}
