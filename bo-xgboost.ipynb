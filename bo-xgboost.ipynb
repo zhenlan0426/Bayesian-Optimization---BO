{
 "cells": [
  {
   "cell_type": "code",
   "execution_count": 1,
   "metadata": {
    "execution": {
     "iopub.execute_input": "2023-05-23T19:34:14.426967Z",
     "iopub.status.busy": "2023-05-23T19:34:14.426586Z",
     "iopub.status.idle": "2023-05-23T19:34:15.107224Z",
     "shell.execute_reply": "2023-05-23T19:34:15.106092Z",
     "shell.execute_reply.started": "2023-05-23T19:34:14.426931Z"
    }
   },
   "outputs": [],
   "source": [
    "import numpy as np\n",
    "import pandas as pd\n",
    "from xgboost import XGBRegressor\n",
    "from sklearn.model_selection import KFold\n",
    "from utility import *\n",
    "from botorch.acquisition.analytic import ExpectedImprovement,ProbabilityOfImprovement,UpperConfidenceBound"
   ]
  },
  {
   "cell_type": "code",
   "execution_count": 2,
   "metadata": {
    "execution": {
     "iopub.execute_input": "2023-05-23T19:34:18.734889Z",
     "iopub.status.busy": "2023-05-23T19:34:18.734076Z",
     "iopub.status.idle": "2023-05-23T19:34:18.810696Z",
     "shell.execute_reply": "2023-05-23T19:34:18.809869Z",
     "shell.execute_reply.started": "2023-05-23T19:34:18.734845Z"
    }
   },
   "outputs": [],
   "source": [
    "X_train = pd.read_csv('./input/X_train.csv')\n",
    "y_train = pd.read_csv('./input/y_train.csv').iloc[:,0]\n",
    "parameter = pd.read_csv('./input/parameters.csv')\n",
    "score = -pd.read_csv('./input/scores.csv').iloc[:,1:]"
   ]
  },
  {
   "cell_type": "code",
   "execution_count": 3,
   "metadata": {
    "execution": {
     "iopub.execute_input": "2023-05-23T19:34:18.812972Z",
     "iopub.status.busy": "2023-05-23T19:34:18.812305Z",
     "iopub.status.idle": "2023-05-23T19:34:18.823689Z",
     "shell.execute_reply": "2023-05-23T19:34:18.822585Z",
     "shell.execute_reply.started": "2023-05-23T19:34:18.812933Z"
    }
   },
   "outputs": [],
   "source": [
    "log_rmse = lambda yhat,y: np.sqrt(np.mean((np.log(1+y) - np.log(1+yhat))**2))\n",
    "def xgboost2perf(learning_rate,max_depth,min_child_weight,gamma,alpha,reg_lambda,\\\n",
    "                 subsample,colsample_bytree,objective,tree_method):\n",
    "\n",
    "    xgboost = XGBRegressor(learning_rate=learning_rate,\\\n",
    "                           n_estimators=600,\\\n",
    "                           nthread=-1,\\\n",
    "                           \n",
    "                           max_depth=max_depth,\\\n",
    "                           min_child_weight=min_child_weight,\\\n",
    "                           gamma=gamma,\\\n",
    "                           alpha=alpha,\\\n",
    "                           reg_lambda=reg_lambda,\\\n",
    "                           subsample=subsample,\\\n",
    "                           colsample_bytree=colsample_bytree,\\\n",
    "                           objective=objective,\\\n",
    "                           tree_method=tree_method\n",
    "                           )\n",
    "\n",
    "    score = 0\n",
    "    n_fold = 6\n",
    "    kf = KFold(n_fold,shuffle=True,random_state=7)\n",
    "    for train_index, test_index in kf.split(X_train):\n",
    "        xgboost.fit(X_train.iloc[train_index],y_train.iloc[train_index]);\n",
    "        yhat = np.maximum(xgboost.predict(X_train.iloc[test_index]),0)\n",
    "        score += log_rmse(yhat,y_train.iloc[test_index])\n",
    "    score /= n_fold\n",
    "    return -score # min -> max"
   ]
  },
  {
   "cell_type": "code",
   "execution_count": null,
   "metadata": {},
   "outputs": [],
   "source": []
  },
  {
   "cell_type": "code",
   "execution_count": 4,
   "metadata": {
    "execution": {
     "iopub.execute_input": "2023-05-23T21:11:24.969717Z",
     "iopub.status.busy": "2023-05-23T21:11:24.969129Z",
     "iopub.status.idle": "2023-05-23T21:11:24.976186Z",
     "shell.execute_reply": "2023-05-23T21:11:24.974899Z",
     "shell.execute_reply.started": "2023-05-23T21:11:24.969685Z"
    }
   },
   "outputs": [],
   "source": [
    "# 'reg:squaredlogerror' and 'reg:pseudohubererror' does not work\n",
    "cat_feat = {'objective':{'reg:squarederror':0,'reg:absoluteerror':1,'reg:gamma':2,'count:poisson':3},\\\n",
    "            'tree_method':{'exact':0,'hist':1}}\n",
    "bounds = [[0.1,0.6],[2,16],[1.0,100.0],\\\n",
    "          [0.0,100.0],[0.0,100.0],[0.0,100.0],\\\n",
    "          [0.25,1.0],[0.25,1.0]]\n",
    "IsMax = False\n",
    "integer = [1,]\n",
    "\n",
    "T = Transform(cat_feat,integer,bounds)\n",
    "bo_parameters = {'acq_fun': ExpectedImprovement,\\\n",
    "                'acq_kwargs': {},\\\n",
    "                 #'fit': fit_gpytorch_mll,\\\n",
    "                'BaseKernel': MaternKernel,\\\n",
    "                'eps': 0.8,\\\n",
    "                'STE':True,\\\n",
    "                'beta':10.0,\\\n",
    "                'b':1,\\\n",
    "                'q': 1,\\\n",
    "                'num_restarts': 12,\\\n",
    "                'raw_samples': 256,\\\n",
    "                'Bo_iter': 100,\\\n",
    "                'verbose': 10\n",
    "                }"
   ]
  },
  {
   "cell_type": "code",
   "execution_count": null,
   "metadata": {
    "execution": {
     "iopub.execute_input": "2023-05-23T22:10:39.151305Z",
     "iopub.status.busy": "2023-05-23T22:10:39.150163Z"
    },
    "scrolled": false
   },
   "outputs": [
    {
     "name": "stdout",
     "output_type": "stream",
     "text": [
      "best val is -0.15011900523637314 at iter 10\n",
      "best val is -0.14489240629762154 at iter 20\n",
      "best val is -0.1354507588669662 at iter 30\n",
      "best val is -0.12449252396658489 at iter 40\n",
      "best val is -0.12449252396658489 at iter 50\n",
      "best val is -0.12449252396658489 at iter 60\n",
      "best val is -0.12449252396658489 at iter 70\n"
     ]
    }
   ],
   "source": [
    "#%debug\n",
    "import warnings\n",
    "warnings.filterwarnings('ignore')\n",
    "x_best,y_best,x,y,model = BO(xgboost2perf,parameter,score,T,**bo_parameters)"
   ]
  },
  {
   "cell_type": "code",
   "execution_count": 7,
   "metadata": {},
   "outputs": [
    {
     "name": "stdout",
     "output_type": "stream",
     "text": [
      "best val is -0.12451533314999341 at iter 10\n",
      "best val is -0.12451533314999341 at iter 20\n",
      "best val is -0.12451533314999341 at iter 30\n",
      "best val is -0.12327934133156083 at iter 40\n",
      "best val is -0.12291377232673158 at iter 50\n",
      "best val is -0.1222194477034604 at iter 60\n",
      "best val is -0.1222194477034604 at iter 70\n",
      "best val is -0.1222194477034604 at iter 80\n",
      "best val is -0.1222194477034604 at iter 90\n",
      "best val is -0.1222194477034604 at iter 100\n"
     ]
    }
   ],
   "source": [
    "x_best,y_best,x,y,model = BO(xgboost2perf,x,y,T,**bo_parameters)"
   ]
  },
  {
   "cell_type": "code",
   "execution_count": null,
   "metadata": {},
   "outputs": [],
   "source": []
  },
  {
   "cell_type": "code",
   "execution_count": 9,
   "metadata": {},
   "outputs": [
    {
     "data": {
      "text/html": [
       "<div>\n",
       "<style scoped>\n",
       "    .dataframe tbody tr th:only-of-type {\n",
       "        vertical-align: middle;\n",
       "    }\n",
       "\n",
       "    .dataframe tbody tr th {\n",
       "        vertical-align: top;\n",
       "    }\n",
       "\n",
       "    .dataframe thead th {\n",
       "        text-align: right;\n",
       "    }\n",
       "</style>\n",
       "<table border=\"1\" class=\"dataframe\">\n",
       "  <thead>\n",
       "    <tr style=\"text-align: right;\">\n",
       "      <th></th>\n",
       "      <th>learning_rate</th>\n",
       "      <th>max_depth</th>\n",
       "      <th>min_child_weight</th>\n",
       "      <th>gamma</th>\n",
       "      <th>alpha</th>\n",
       "      <th>reg_lambda</th>\n",
       "      <th>subsample</th>\n",
       "      <th>colsample_bytree</th>\n",
       "      <th>objective</th>\n",
       "      <th>tree_method</th>\n",
       "      <th>scores</th>\n",
       "    </tr>\n",
       "  </thead>\n",
       "  <tbody>\n",
       "    <tr>\n",
       "      <th>0</th>\n",
       "      <td>0.100000</td>\n",
       "      <td>5</td>\n",
       "      <td>51.834650</td>\n",
       "      <td>71.345106</td>\n",
       "      <td>9.684210</td>\n",
       "      <td>80.049663</td>\n",
       "      <td>0.926508</td>\n",
       "      <td>0.499708</td>\n",
       "      <td>count:poisson</td>\n",
       "      <td>hist</td>\n",
       "      <td>-0.122219</td>\n",
       "    </tr>\n",
       "    <tr>\n",
       "      <th>0</th>\n",
       "      <td>0.100000</td>\n",
       "      <td>4</td>\n",
       "      <td>32.404418</td>\n",
       "      <td>90.128073</td>\n",
       "      <td>59.003655</td>\n",
       "      <td>22.550415</td>\n",
       "      <td>0.895481</td>\n",
       "      <td>0.513877</td>\n",
       "      <td>count:poisson</td>\n",
       "      <td>hist</td>\n",
       "      <td>-0.122276</td>\n",
       "    </tr>\n",
       "    <tr>\n",
       "      <th>0</th>\n",
       "      <td>0.100000</td>\n",
       "      <td>4</td>\n",
       "      <td>83.933899</td>\n",
       "      <td>95.610325</td>\n",
       "      <td>13.814104</td>\n",
       "      <td>77.801405</td>\n",
       "      <td>0.796111</td>\n",
       "      <td>0.436662</td>\n",
       "      <td>count:poisson</td>\n",
       "      <td>hist</td>\n",
       "      <td>-0.122914</td>\n",
       "    </tr>\n",
       "    <tr>\n",
       "      <th>0</th>\n",
       "      <td>0.100000</td>\n",
       "      <td>4</td>\n",
       "      <td>32.992335</td>\n",
       "      <td>100.000000</td>\n",
       "      <td>6.137757</td>\n",
       "      <td>21.815003</td>\n",
       "      <td>0.884555</td>\n",
       "      <td>0.576040</td>\n",
       "      <td>count:poisson</td>\n",
       "      <td>hist</td>\n",
       "      <td>-0.123257</td>\n",
       "    </tr>\n",
       "    <tr>\n",
       "      <th>0</th>\n",
       "      <td>0.100000</td>\n",
       "      <td>4</td>\n",
       "      <td>30.827384</td>\n",
       "      <td>65.492642</td>\n",
       "      <td>91.035223</td>\n",
       "      <td>56.297423</td>\n",
       "      <td>0.838361</td>\n",
       "      <td>0.568791</td>\n",
       "      <td>count:poisson</td>\n",
       "      <td>hist</td>\n",
       "      <td>-0.123279</td>\n",
       "    </tr>\n",
       "    <tr>\n",
       "      <th>...</th>\n",
       "      <td>...</td>\n",
       "      <td>...</td>\n",
       "      <td>...</td>\n",
       "      <td>...</td>\n",
       "      <td>...</td>\n",
       "      <td>...</td>\n",
       "      <td>...</td>\n",
       "      <td>...</td>\n",
       "      <td>...</td>\n",
       "      <td>...</td>\n",
       "      <td>...</td>\n",
       "    </tr>\n",
       "    <tr>\n",
       "      <th>6</th>\n",
       "      <td>0.326054</td>\n",
       "      <td>3</td>\n",
       "      <td>11.919477</td>\n",
       "      <td>28.552929</td>\n",
       "      <td>76.890287</td>\n",
       "      <td>54.607057</td>\n",
       "      <td>0.502535</td>\n",
       "      <td>0.795976</td>\n",
       "      <td>reg:absoluteerror</td>\n",
       "      <td>hist</td>\n",
       "      <td>-0.284340</td>\n",
       "    </tr>\n",
       "    <tr>\n",
       "      <th>9</th>\n",
       "      <td>0.427221</td>\n",
       "      <td>3</td>\n",
       "      <td>80.484861</td>\n",
       "      <td>47.357331</td>\n",
       "      <td>82.625859</td>\n",
       "      <td>91.327121</td>\n",
       "      <td>0.375483</td>\n",
       "      <td>0.492813</td>\n",
       "      <td>reg:absoluteerror</td>\n",
       "      <td>exact</td>\n",
       "      <td>-0.400163</td>\n",
       "    </tr>\n",
       "    <tr>\n",
       "      <th>1</th>\n",
       "      <td>0.280107</td>\n",
       "      <td>2</td>\n",
       "      <td>79.122748</td>\n",
       "      <td>94.706736</td>\n",
       "      <td>85.902933</td>\n",
       "      <td>7.053940</td>\n",
       "      <td>0.282078</td>\n",
       "      <td>0.522069</td>\n",
       "      <td>reg:absoluteerror</td>\n",
       "      <td>hist</td>\n",
       "      <td>-0.401253</td>\n",
       "    </tr>\n",
       "    <tr>\n",
       "      <th>2</th>\n",
       "      <td>0.403225</td>\n",
       "      <td>3</td>\n",
       "      <td>38.475863</td>\n",
       "      <td>72.333209</td>\n",
       "      <td>41.717891</td>\n",
       "      <td>17.955389</td>\n",
       "      <td>0.535492</td>\n",
       "      <td>0.305701</td>\n",
       "      <td>reg:gamma</td>\n",
       "      <td>exact</td>\n",
       "      <td>-0.402244</td>\n",
       "    </tr>\n",
       "    <tr>\n",
       "      <th>4</th>\n",
       "      <td>0.450057</td>\n",
       "      <td>5</td>\n",
       "      <td>7.628559</td>\n",
       "      <td>35.718665</td>\n",
       "      <td>33.163884</td>\n",
       "      <td>30.461418</td>\n",
       "      <td>0.627340</td>\n",
       "      <td>0.649008</td>\n",
       "      <td>reg:gamma</td>\n",
       "      <td>hist</td>\n",
       "      <td>-0.404789</td>\n",
       "    </tr>\n",
       "  </tbody>\n",
       "</table>\n",
       "<p>210 rows × 11 columns</p>\n",
       "</div>"
      ],
      "text/plain": [
       "    learning_rate  max_depth  min_child_weight       gamma      alpha  \\\n",
       "0        0.100000          5         51.834650   71.345106   9.684210   \n",
       "0        0.100000          4         32.404418   90.128073  59.003655   \n",
       "0        0.100000          4         83.933899   95.610325  13.814104   \n",
       "0        0.100000          4         32.992335  100.000000   6.137757   \n",
       "0        0.100000          4         30.827384   65.492642  91.035223   \n",
       "..            ...        ...               ...         ...        ...   \n",
       "6        0.326054          3         11.919477   28.552929  76.890287   \n",
       "9        0.427221          3         80.484861   47.357331  82.625859   \n",
       "1        0.280107          2         79.122748   94.706736  85.902933   \n",
       "2        0.403225          3         38.475863   72.333209  41.717891   \n",
       "4        0.450057          5          7.628559   35.718665  33.163884   \n",
       "\n",
       "    reg_lambda  subsample  colsample_bytree          objective tree_method  \\\n",
       "0    80.049663   0.926508          0.499708      count:poisson        hist   \n",
       "0    22.550415   0.895481          0.513877      count:poisson        hist   \n",
       "0    77.801405   0.796111          0.436662      count:poisson        hist   \n",
       "0    21.815003   0.884555          0.576040      count:poisson        hist   \n",
       "0    56.297423   0.838361          0.568791      count:poisson        hist   \n",
       "..         ...        ...               ...                ...         ...   \n",
       "6    54.607057   0.502535          0.795976  reg:absoluteerror        hist   \n",
       "9    91.327121   0.375483          0.492813  reg:absoluteerror       exact   \n",
       "1     7.053940   0.282078          0.522069  reg:absoluteerror        hist   \n",
       "2    17.955389   0.535492          0.305701          reg:gamma       exact   \n",
       "4    30.461418   0.627340          0.649008          reg:gamma        hist   \n",
       "\n",
       "      scores  \n",
       "0  -0.122219  \n",
       "0  -0.122276  \n",
       "0  -0.122914  \n",
       "0  -0.123257  \n",
       "0  -0.123279  \n",
       "..       ...  \n",
       "6  -0.284340  \n",
       "9  -0.400163  \n",
       "1  -0.401253  \n",
       "2  -0.402244  \n",
       "4  -0.404789  \n",
       "\n",
       "[210 rows x 11 columns]"
      ]
     },
     "execution_count": 9,
     "metadata": {},
     "output_type": "execute_result"
    }
   ],
   "source": [
    "pd.concat([x,y],1).sort_values(by=['scores'],ascending=False)"
   ]
  },
  {
   "cell_type": "code",
   "execution_count": 22,
   "metadata": {
    "collapsed": true
   },
   "outputs": [
    {
     "name": "stdout",
     "output_type": "stream",
     "text": [
      "best val is -0.1270606684379154 at iter 10\n",
      "best val is -0.1270606684379154 at iter 20\n",
      "best val is -0.1270606684379154 at iter 30\n",
      "best val is -0.1270606684379154 at iter 40\n"
     ]
    },
    {
     "ename": "KeyboardInterrupt",
     "evalue": "",
     "output_type": "error",
     "traceback": [
      "\u001b[0;31m---------------------------------------------------------------------------\u001b[0m",
      "\u001b[0;31mKeyboardInterrupt\u001b[0m                         Traceback (most recent call last)",
      "Cell \u001b[0;32mIn[22], line 1\u001b[0m\n\u001b[0;32m----> 1\u001b[0m x_best,y_best,x,y,model \u001b[38;5;241m=\u001b[39m \u001b[43mBO\u001b[49m\u001b[43m(\u001b[49m\u001b[43mxgboost2perf\u001b[49m\u001b[43m,\u001b[49m\u001b[43mx\u001b[49m\u001b[43m,\u001b[49m\u001b[43my\u001b[49m\u001b[43m,\u001b[49m\u001b[43mT\u001b[49m\u001b[43m,\u001b[49m\u001b[38;5;241;43m*\u001b[39;49m\u001b[38;5;241;43m*\u001b[39;49m\u001b[43mbo_parameters\u001b[49m\u001b[43m)\u001b[49m\n",
      "File \u001b[0;32m~/Desktop/Projects/house-prices-advanced-regression-techniques/utility.py:199\u001b[0m, in \u001b[0;36mBO\u001b[0;34m(fun, x, y, T, acq_fun, acq_kwargs, BaseKernel, eps, STE, beta, q, num_restarts, raw_samples, Bo_iter, verbose)\u001b[0m\n\u001b[1;32m    196\u001b[0m h\u001b[38;5;241m.\u001b[39mremove()\n\u001b[1;32m    198\u001b[0m \u001b[38;5;66;03m# try x_next\u001b[39;00m\n\u001b[0;32m--> 199\u001b[0m y_next \u001b[38;5;241m=\u001b[39m \u001b[43mfun\u001b[49m\u001b[43m(\u001b[49m\u001b[38;5;241;43m*\u001b[39;49m\u001b[43mx_next\u001b[49m\u001b[43m)\u001b[49m\n\u001b[1;32m    200\u001b[0m x_next \u001b[38;5;241m=\u001b[39m pd\u001b[38;5;241m.\u001b[39mDataFrame([x_next],columns\u001b[38;5;241m=\u001b[39mx_name) \u001b[38;5;66;03m# -> DF for pd.concat\u001b[39;00m\n\u001b[1;32m    201\u001b[0m \u001b[38;5;66;03m# update dataset\u001b[39;00m\n",
      "Cell \u001b[0;32mIn[3], line 24\u001b[0m, in \u001b[0;36mxgboost2perf\u001b[0;34m(learning_rate, max_depth, min_child_weight, gamma, alpha, reg_lambda, subsample, colsample_bytree, objective, tree_method)\u001b[0m\n\u001b[1;32m     22\u001b[0m kf \u001b[38;5;241m=\u001b[39m KFold(n_fold,shuffle\u001b[38;5;241m=\u001b[39m\u001b[38;5;28;01mTrue\u001b[39;00m,random_state\u001b[38;5;241m=\u001b[39m\u001b[38;5;241m7\u001b[39m)\n\u001b[1;32m     23\u001b[0m \u001b[38;5;28;01mfor\u001b[39;00m train_index, test_index \u001b[38;5;129;01min\u001b[39;00m kf\u001b[38;5;241m.\u001b[39msplit(X_train):\n\u001b[0;32m---> 24\u001b[0m     \u001b[43mxgboost\u001b[49m\u001b[38;5;241;43m.\u001b[39;49m\u001b[43mfit\u001b[49m\u001b[43m(\u001b[49m\u001b[43mX_train\u001b[49m\u001b[38;5;241;43m.\u001b[39;49m\u001b[43miloc\u001b[49m\u001b[43m[\u001b[49m\u001b[43mtrain_index\u001b[49m\u001b[43m]\u001b[49m\u001b[43m,\u001b[49m\u001b[43my_train\u001b[49m\u001b[38;5;241;43m.\u001b[39;49m\u001b[43miloc\u001b[49m\u001b[43m[\u001b[49m\u001b[43mtrain_index\u001b[49m\u001b[43m]\u001b[49m\u001b[43m)\u001b[49m;\n\u001b[1;32m     25\u001b[0m     yhat \u001b[38;5;241m=\u001b[39m np\u001b[38;5;241m.\u001b[39mmaximum(xgboost\u001b[38;5;241m.\u001b[39mpredict(X_train\u001b[38;5;241m.\u001b[39miloc[test_index]),\u001b[38;5;241m0\u001b[39m)\n\u001b[1;32m     26\u001b[0m     score \u001b[38;5;241m+\u001b[39m\u001b[38;5;241m=\u001b[39m log_rmse(yhat,y_train\u001b[38;5;241m.\u001b[39miloc[test_index])\n",
      "File \u001b[0;32m~/anaconda3/lib/python3.10/site-packages/xgboost/core.py:620\u001b[0m, in \u001b[0;36mrequire_keyword_args.<locals>.throw_if.<locals>.inner_f\u001b[0;34m(*args, **kwargs)\u001b[0m\n\u001b[1;32m    618\u001b[0m \u001b[38;5;28;01mfor\u001b[39;00m k, arg \u001b[38;5;129;01min\u001b[39;00m \u001b[38;5;28mzip\u001b[39m(sig\u001b[38;5;241m.\u001b[39mparameters, args):\n\u001b[1;32m    619\u001b[0m     kwargs[k] \u001b[38;5;241m=\u001b[39m arg\n\u001b[0;32m--> 620\u001b[0m \u001b[38;5;28;01mreturn\u001b[39;00m \u001b[43mfunc\u001b[49m\u001b[43m(\u001b[49m\u001b[38;5;241;43m*\u001b[39;49m\u001b[38;5;241;43m*\u001b[39;49m\u001b[43mkwargs\u001b[49m\u001b[43m)\u001b[49m\n",
      "File \u001b[0;32m~/anaconda3/lib/python3.10/site-packages/xgboost/sklearn.py:1025\u001b[0m, in \u001b[0;36mXGBModel.fit\u001b[0;34m(self, X, y, sample_weight, base_margin, eval_set, eval_metric, early_stopping_rounds, verbose, xgb_model, sample_weight_eval_set, base_margin_eval_set, feature_weights, callbacks)\u001b[0m\n\u001b[1;32m   1014\u001b[0m     obj \u001b[38;5;241m=\u001b[39m \u001b[38;5;28;01mNone\u001b[39;00m\n\u001b[1;32m   1016\u001b[0m (\n\u001b[1;32m   1017\u001b[0m     model,\n\u001b[1;32m   1018\u001b[0m     metric,\n\u001b[0;32m   (...)\u001b[0m\n\u001b[1;32m   1023\u001b[0m     xgb_model, eval_metric, params, early_stopping_rounds, callbacks\n\u001b[1;32m   1024\u001b[0m )\n\u001b[0;32m-> 1025\u001b[0m \u001b[38;5;28mself\u001b[39m\u001b[38;5;241m.\u001b[39m_Booster \u001b[38;5;241m=\u001b[39m \u001b[43mtrain\u001b[49m\u001b[43m(\u001b[49m\n\u001b[1;32m   1026\u001b[0m \u001b[43m    \u001b[49m\u001b[43mparams\u001b[49m\u001b[43m,\u001b[49m\n\u001b[1;32m   1027\u001b[0m \u001b[43m    \u001b[49m\u001b[43mtrain_dmatrix\u001b[49m\u001b[43m,\u001b[49m\n\u001b[1;32m   1028\u001b[0m \u001b[43m    \u001b[49m\u001b[38;5;28;43mself\u001b[39;49m\u001b[38;5;241;43m.\u001b[39;49m\u001b[43mget_num_boosting_rounds\u001b[49m\u001b[43m(\u001b[49m\u001b[43m)\u001b[49m\u001b[43m,\u001b[49m\n\u001b[1;32m   1029\u001b[0m \u001b[43m    \u001b[49m\u001b[43mevals\u001b[49m\u001b[38;5;241;43m=\u001b[39;49m\u001b[43mevals\u001b[49m\u001b[43m,\u001b[49m\n\u001b[1;32m   1030\u001b[0m \u001b[43m    \u001b[49m\u001b[43mearly_stopping_rounds\u001b[49m\u001b[38;5;241;43m=\u001b[39;49m\u001b[43mearly_stopping_rounds\u001b[49m\u001b[43m,\u001b[49m\n\u001b[1;32m   1031\u001b[0m \u001b[43m    \u001b[49m\u001b[43mevals_result\u001b[49m\u001b[38;5;241;43m=\u001b[39;49m\u001b[43mevals_result\u001b[49m\u001b[43m,\u001b[49m\n\u001b[1;32m   1032\u001b[0m \u001b[43m    \u001b[49m\u001b[43mobj\u001b[49m\u001b[38;5;241;43m=\u001b[39;49m\u001b[43mobj\u001b[49m\u001b[43m,\u001b[49m\n\u001b[1;32m   1033\u001b[0m \u001b[43m    \u001b[49m\u001b[43mcustom_metric\u001b[49m\u001b[38;5;241;43m=\u001b[39;49m\u001b[43mmetric\u001b[49m\u001b[43m,\u001b[49m\n\u001b[1;32m   1034\u001b[0m \u001b[43m    \u001b[49m\u001b[43mverbose_eval\u001b[49m\u001b[38;5;241;43m=\u001b[39;49m\u001b[43mverbose\u001b[49m\u001b[43m,\u001b[49m\n\u001b[1;32m   1035\u001b[0m \u001b[43m    \u001b[49m\u001b[43mxgb_model\u001b[49m\u001b[38;5;241;43m=\u001b[39;49m\u001b[43mmodel\u001b[49m\u001b[43m,\u001b[49m\n\u001b[1;32m   1036\u001b[0m \u001b[43m    \u001b[49m\u001b[43mcallbacks\u001b[49m\u001b[38;5;241;43m=\u001b[39;49m\u001b[43mcallbacks\u001b[49m\u001b[43m,\u001b[49m\n\u001b[1;32m   1037\u001b[0m \u001b[43m\u001b[49m\u001b[43m)\u001b[49m\n\u001b[1;32m   1039\u001b[0m \u001b[38;5;28mself\u001b[39m\u001b[38;5;241m.\u001b[39m_set_evaluation_result(evals_result)\n\u001b[1;32m   1040\u001b[0m \u001b[38;5;28;01mreturn\u001b[39;00m \u001b[38;5;28mself\u001b[39m\n",
      "File \u001b[0;32m~/anaconda3/lib/python3.10/site-packages/xgboost/core.py:620\u001b[0m, in \u001b[0;36mrequire_keyword_args.<locals>.throw_if.<locals>.inner_f\u001b[0;34m(*args, **kwargs)\u001b[0m\n\u001b[1;32m    618\u001b[0m \u001b[38;5;28;01mfor\u001b[39;00m k, arg \u001b[38;5;129;01min\u001b[39;00m \u001b[38;5;28mzip\u001b[39m(sig\u001b[38;5;241m.\u001b[39mparameters, args):\n\u001b[1;32m    619\u001b[0m     kwargs[k] \u001b[38;5;241m=\u001b[39m arg\n\u001b[0;32m--> 620\u001b[0m \u001b[38;5;28;01mreturn\u001b[39;00m \u001b[43mfunc\u001b[49m\u001b[43m(\u001b[49m\u001b[38;5;241;43m*\u001b[39;49m\u001b[38;5;241;43m*\u001b[39;49m\u001b[43mkwargs\u001b[49m\u001b[43m)\u001b[49m\n",
      "File \u001b[0;32m~/anaconda3/lib/python3.10/site-packages/xgboost/training.py:185\u001b[0m, in \u001b[0;36mtrain\u001b[0;34m(params, dtrain, num_boost_round, evals, obj, feval, maximize, early_stopping_rounds, evals_result, verbose_eval, xgb_model, callbacks, custom_metric)\u001b[0m\n\u001b[1;32m    183\u001b[0m \u001b[38;5;28;01mif\u001b[39;00m cb_container\u001b[38;5;241m.\u001b[39mbefore_iteration(bst, i, dtrain, evals):\n\u001b[1;32m    184\u001b[0m     \u001b[38;5;28;01mbreak\u001b[39;00m\n\u001b[0;32m--> 185\u001b[0m \u001b[43mbst\u001b[49m\u001b[38;5;241;43m.\u001b[39;49m\u001b[43mupdate\u001b[49m\u001b[43m(\u001b[49m\u001b[43mdtrain\u001b[49m\u001b[43m,\u001b[49m\u001b[43m \u001b[49m\u001b[43mi\u001b[49m\u001b[43m,\u001b[49m\u001b[43m \u001b[49m\u001b[43mobj\u001b[49m\u001b[43m)\u001b[49m\n\u001b[1;32m    186\u001b[0m \u001b[38;5;28;01mif\u001b[39;00m cb_container\u001b[38;5;241m.\u001b[39mafter_iteration(bst, i, dtrain, evals):\n\u001b[1;32m    187\u001b[0m     \u001b[38;5;28;01mbreak\u001b[39;00m\n",
      "File \u001b[0;32m~/anaconda3/lib/python3.10/site-packages/xgboost/core.py:1918\u001b[0m, in \u001b[0;36mBooster.update\u001b[0;34m(self, dtrain, iteration, fobj)\u001b[0m\n\u001b[1;32m   1915\u001b[0m \u001b[38;5;28mself\u001b[39m\u001b[38;5;241m.\u001b[39m_validate_dmatrix_features(dtrain)\n\u001b[1;32m   1917\u001b[0m \u001b[38;5;28;01mif\u001b[39;00m fobj \u001b[38;5;129;01mis\u001b[39;00m \u001b[38;5;28;01mNone\u001b[39;00m:\n\u001b[0;32m-> 1918\u001b[0m     _check_call(\u001b[43m_LIB\u001b[49m\u001b[38;5;241;43m.\u001b[39;49m\u001b[43mXGBoosterUpdateOneIter\u001b[49m\u001b[43m(\u001b[49m\u001b[38;5;28;43mself\u001b[39;49m\u001b[38;5;241;43m.\u001b[39;49m\u001b[43mhandle\u001b[49m\u001b[43m,\u001b[49m\n\u001b[1;32m   1919\u001b[0m \u001b[43m                                            \u001b[49m\u001b[43mctypes\u001b[49m\u001b[38;5;241;43m.\u001b[39;49m\u001b[43mc_int\u001b[49m\u001b[43m(\u001b[49m\u001b[43miteration\u001b[49m\u001b[43m)\u001b[49m\u001b[43m,\u001b[49m\n\u001b[1;32m   1920\u001b[0m \u001b[43m                                            \u001b[49m\u001b[43mdtrain\u001b[49m\u001b[38;5;241;43m.\u001b[39;49m\u001b[43mhandle\u001b[49m\u001b[43m)\u001b[49m)\n\u001b[1;32m   1921\u001b[0m \u001b[38;5;28;01melse\u001b[39;00m:\n\u001b[1;32m   1922\u001b[0m     pred \u001b[38;5;241m=\u001b[39m \u001b[38;5;28mself\u001b[39m\u001b[38;5;241m.\u001b[39mpredict(dtrain, output_margin\u001b[38;5;241m=\u001b[39m\u001b[38;5;28;01mTrue\u001b[39;00m, training\u001b[38;5;241m=\u001b[39m\u001b[38;5;28;01mTrue\u001b[39;00m)\n",
      "\u001b[0;31mKeyboardInterrupt\u001b[0m: "
     ]
    }
   ],
   "source": [
    "x_best,y_best,x,y,model = BO(xgboost2perf,x,y,T,**bo_parameters)"
   ]
  },
  {
   "cell_type": "code",
   "execution_count": 36,
   "metadata": {},
   "outputs": [],
   "source": [
    "pd.concat([x,y],1).sort_values(by=['scores'],ascending=False).iloc[0:1,:-1].to_csv('best_para.csv',index=False)"
   ]
  },
  {
   "cell_type": "code",
   "execution_count": null,
   "metadata": {},
   "outputs": [],
   "source": []
  },
  {
   "cell_type": "code",
   "execution_count": null,
   "metadata": {},
   "outputs": [],
   "source": []
  },
  {
   "cell_type": "code",
   "execution_count": 18,
   "metadata": {},
   "outputs": [],
   "source": [
    "# x_tor,y_tor = T.forward(x,y)\n",
    "\n",
    "# model = initialize_model(x_tor,y_tor, MaternKernel)\n",
    "# h = model.register_forward_pre_hook(hook_factory(T))\n",
    "\n",
    "# d0 = 8;d1 = 6;\n",
    "# bounds = torch.tensor([[0.0] * d0 + [-10] * d1, [1.0] * d0 + [10] * d1], device=device, dtype=dtype)    \n",
    "# bounds2 = torch.tensor([[0.0] * (d0+d1), [1.0] * (d0+d1)], device=device, dtype=dtype)    \n",
    "\n",
    "# from botorch.acquisition.analytic import AnalyticAcquisitionFunction\n",
    "# class Mean_std(AnalyticAcquisitionFunction):\n",
    "#     def __init__(self,model,beta) -> None:\n",
    "#         super().__init__(model=model)\n",
    "#         self.beta = beta\n",
    "\n",
    "#     def forward(self, X):\n",
    "#         mean, std = self._mean_and_sigma(X, compute_sigma=True)\n",
    "#         return mean - self.beta * std\n",
    "\n",
    "# mean_fun = Mean_std(model,0)\n",
    "# #mean_fun = ExpectedImprovement(model,-y.min().values[0])\n",
    "\n",
    "# #%debug\n",
    "# x_best,y_val = optimize_acqf(mean_fun,bounds2,q=1,num_restarts=256,raw_samples=1024)\n",
    "# print(y_val)\n",
    "# print(xgboost2perf(*T.backward(x_best[0])))\n",
    "\n",
    "# x_best,y_val = optimize_acqf(mean_fun,bounds,q=1,num_restarts=256,raw_samples=1024)\n",
    "# print(y_val)\n",
    "# print(xgboost2perf(*T.backward(x_best[0])))"
   ]
  },
  {
   "cell_type": "code",
   "execution_count": null,
   "metadata": {},
   "outputs": [],
   "source": []
  },
  {
   "cell_type": "code",
   "execution_count": null,
   "metadata": {},
   "outputs": [],
   "source": []
  },
  {
   "cell_type": "code",
   "execution_count": 10,
   "metadata": {},
   "outputs": [],
   "source": [
    "bo_parameters = {'acq_fun': UpperConfidenceBound,\\\n",
    "                'acq_kwargs': {'beta':6},\\\n",
    "                 #'fit': fit_gpytorch_mll,\\\n",
    "                'BaseKernel': RBFKernel,\\\n",
    "                'eps': 0.6,\\\n",
    "                'STE':True,\\\n",
    "                'beta':2.0,\\\n",
    "                'q': 1,\\\n",
    "                'num_restarts': 12,\\\n",
    "                'raw_samples': 256,\\\n",
    "                'Bo_iter': 100,\\\n",
    "                'verbose': 10\n",
    "                }"
   ]
  },
  {
   "cell_type": "code",
   "execution_count": null,
   "metadata": {},
   "outputs": [
    {
     "name": "stdout",
     "output_type": "stream",
     "text": [
      "best val is -0.1222194477034604 at iter 10\n",
      "best val is -0.1222194477034604 at iter 20\n",
      "best val is -0.1222194477034604 at iter 30\n"
     ]
    }
   ],
   "source": [
    "x_best,y_best,x,y,model = BO(xgboost2perf,x,y,T,**bo_parameters)"
   ]
  },
  {
   "cell_type": "code",
   "execution_count": null,
   "metadata": {},
   "outputs": [],
   "source": [
    "pd.concat([x,y],1).sort_values(by=['scores'],ascending=False)"
   ]
  },
  {
   "cell_type": "code",
   "execution_count": 12,
   "metadata": {},
   "outputs": [],
   "source": [
    "x.to_csv('bo_x.csv'); y.to_csv('bo_y.csv')"
   ]
  },
  {
   "cell_type": "code",
   "execution_count": null,
   "metadata": {},
   "outputs": [],
   "source": []
  }
 ],
 "metadata": {
  "kernelspec": {
   "display_name": "Python 3 (ipykernel)",
   "language": "python",
   "name": "python3"
  },
  "language_info": {
   "codemirror_mode": {
    "name": "ipython",
    "version": 3
   },
   "file_extension": ".py",
   "mimetype": "text/x-python",
   "name": "python",
   "nbconvert_exporter": "python",
   "pygments_lexer": "ipython3",
   "version": "3.10.9"
  }
 },
 "nbformat": 4,
 "nbformat_minor": 4
}
