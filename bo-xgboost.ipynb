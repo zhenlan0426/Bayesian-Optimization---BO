{
 "cells": [
  {
   "cell_type": "code",
   "execution_count": 1,
   "metadata": {
    "execution": {
     "iopub.execute_input": "2023-05-23T19:34:14.426967Z",
     "iopub.status.busy": "2023-05-23T19:34:14.426586Z",
     "iopub.status.idle": "2023-05-23T19:34:15.107224Z",
     "shell.execute_reply": "2023-05-23T19:34:15.106092Z",
     "shell.execute_reply.started": "2023-05-23T19:34:14.426931Z"
    }
   },
   "outputs": [],
   "source": [
    "import numpy as np\n",
    "import pandas as pd\n",
    "from xgboost import XGBRegressor\n",
    "from sklearn.model_selection import KFold\n",
    "from utility import *\n",
    "from botorch.acquisition.analytic import ExpectedImprovement,ProbabilityOfImprovement,UpperConfidenceBound"
   ]
  },
  {
   "cell_type": "code",
   "execution_count": 5,
   "metadata": {
    "execution": {
     "iopub.execute_input": "2023-05-23T19:34:18.734889Z",
     "iopub.status.busy": "2023-05-23T19:34:18.734076Z",
     "iopub.status.idle": "2023-05-23T19:34:18.810696Z",
     "shell.execute_reply": "2023-05-23T19:34:18.809869Z",
     "shell.execute_reply.started": "2023-05-23T19:34:18.734845Z"
    }
   },
   "outputs": [],
   "source": [
    "X_train = pd.read_csv('./input/X_train.csv')\n",
    "y_train = pd.read_csv('./input/y_train.csv').iloc[:,0]\n",
    "parameter = pd.read_csv('./input/parameters.csv')\n",
    "score = pd.read_csv('./input/scores.csv').iloc[:,1:]"
   ]
  },
  {
   "cell_type": "code",
   "execution_count": 8,
   "metadata": {
    "execution": {
     "iopub.execute_input": "2023-05-23T19:34:18.812972Z",
     "iopub.status.busy": "2023-05-23T19:34:18.812305Z",
     "iopub.status.idle": "2023-05-23T19:34:18.823689Z",
     "shell.execute_reply": "2023-05-23T19:34:18.822585Z",
     "shell.execute_reply.started": "2023-05-23T19:34:18.812933Z"
    }
   },
   "outputs": [],
   "source": [
    "log_rmse = lambda yhat,y: np.sqrt(np.mean((np.log(1+y) - np.log(1+yhat))**2))\n",
    "def xgboost2perf(learning_rate,max_depth,min_child_weight,gamma,alpha,reg_lambda,\\\n",
    "                 subsample,colsample_bytree,objective,tree_method):\n",
    "\n",
    "    xgboost = XGBRegressor(learning_rate=learning_rate,\\\n",
    "                           n_estimators=600,\\\n",
    "                           nthread=-1,\\\n",
    "                           \n",
    "                           max_depth=max_depth,\\\n",
    "                           min_child_weight=min_child_weight,\\\n",
    "                           gamma=gamma,\\\n",
    "                           alpha=alpha,\\\n",
    "                           reg_lambda=reg_lambda,\\\n",
    "                           subsample=subsample,\\\n",
    "                           colsample_bytree=colsample_bytree,\\\n",
    "                           objective=objective,\\\n",
    "                           tree_method=tree_method\n",
    "                           )\n",
    "\n",
    "    score = 0\n",
    "    n_fold = 6\n",
    "    kf = KFold(n_fold,shuffle=True,random_state=7)\n",
    "    for train_index, test_index in kf.split(X_train):\n",
    "        xgboost.fit(X_train.iloc[train_index],y_train.iloc[train_index]);\n",
    "        yhat = np.maximum(xgboost.predict(X_train.iloc[test_index]),0)\n",
    "        score += log_rmse(yhat,y_train.iloc[test_index])\n",
    "    score /= n_fold\n",
    "    return score"
   ]
  },
  {
   "cell_type": "code",
   "execution_count": null,
   "metadata": {},
   "outputs": [],
   "source": []
  },
  {
   "cell_type": "code",
   "execution_count": 9,
   "metadata": {
    "execution": {
     "iopub.execute_input": "2023-05-23T21:11:24.969717Z",
     "iopub.status.busy": "2023-05-23T21:11:24.969129Z",
     "iopub.status.idle": "2023-05-23T21:11:24.976186Z",
     "shell.execute_reply": "2023-05-23T21:11:24.974899Z",
     "shell.execute_reply.started": "2023-05-23T21:11:24.969685Z"
    }
   },
   "outputs": [],
   "source": [
    "# 'reg:squaredlogerror' and 'reg:pseudohubererror' does not work\n",
    "cat_feat = {'objective':{'reg:squarederror':0,'reg:absoluteerror':1,'reg:gamma':2,'count:poisson':3},\\\n",
    "            'tree_method':{'exact':0,'hist':1}}\n",
    "bounds = [[0.1,0.6],[2,16],[1.0,100.0],\\\n",
    "          [0.0,100.0],[0.0,100.0],[0.0,100.0],\\\n",
    "          [0.25,1.0],[0.25,1.0]]\n",
    "IsMax = False\n",
    "integer = [1,]"
   ]
  },
  {
   "cell_type": "code",
   "execution_count": 10,
   "metadata": {
    "execution": {
     "iopub.execute_input": "2023-05-23T22:10:33.171871Z",
     "iopub.status.busy": "2023-05-23T22:10:33.171390Z",
     "iopub.status.idle": "2023-05-23T22:10:33.177653Z",
     "shell.execute_reply": "2023-05-23T22:10:33.176357Z",
     "shell.execute_reply.started": "2023-05-23T22:10:33.171805Z"
    }
   },
   "outputs": [],
   "source": [
    "T = Transform(cat_feat,integer,bounds,IsMax)"
   ]
  },
  {
   "cell_type": "code",
   "execution_count": 11,
   "metadata": {
    "execution": {
     "iopub.execute_input": "2023-05-23T22:10:36.551554Z",
     "iopub.status.busy": "2023-05-23T22:10:36.551141Z",
     "iopub.status.idle": "2023-05-23T22:10:36.557700Z",
     "shell.execute_reply": "2023-05-23T22:10:36.556564Z",
     "shell.execute_reply.started": "2023-05-23T22:10:36.551518Z"
    }
   },
   "outputs": [],
   "source": [
    "bo_parameters = {'acq_fun': ExpectedImprovement,\\\n",
    "                'acq_kwargs': {},\\\n",
    "                 #'fit': fit_gpytorch_mll,\\\n",
    "                'BaseKernel': MaternKernel,\\\n",
    "                'q': 1,\\\n",
    "                'num_restarts': 4,\\\n",
    "                'raw_samples': 128,\\\n",
    "                'Bo_iter': 200,\\\n",
    "                'verbose': 10\n",
    "                }"
   ]
  },
  {
   "cell_type": "code",
   "execution_count": 12,
   "metadata": {
    "execution": {
     "iopub.execute_input": "2023-05-23T22:10:39.151305Z",
     "iopub.status.busy": "2023-05-23T22:10:39.150163Z"
    }
   },
   "outputs": [
    {
     "name": "stdout",
     "output_type": "stream",
     "text": [
      "best val is 0.1347155871452955 at iter 10\n",
      "best val is 0.1347155871452955 at iter 20\n",
      "best val is 0.1347155871452955 at iter 30\n",
      "best val is 0.13127062769829775 at iter 40\n",
      "best val is 0.12964176954962917 at iter 50\n",
      "best val is 0.12689068175022358 at iter 60\n",
      "best val is 0.12689068175022358 at iter 70\n",
      "best val is 0.12689068175022358 at iter 80\n",
      "best val is 0.12689068175022358 at iter 90\n",
      "best val is 0.12689068175022358 at iter 100\n",
      "best val is 0.12689068175022358 at iter 110\n",
      "best val is 0.12689068175022358 at iter 120\n",
      "best val is 0.12689068175022358 at iter 130\n",
      "best val is 0.12437457562667197 at iter 140\n",
      "best val is 0.12437457562667197 at iter 150\n",
      "best val is 0.12437457562667197 at iter 160\n",
      "best val is 0.12437457562667197 at iter 170\n",
      "best val is 0.12437457562667197 at iter 180\n",
      "best val is 0.12437457562667197 at iter 190\n",
      "best val is 0.12437457562667197 at iter 200\n"
     ]
    }
   ],
   "source": [
    "#%debug\n",
    "import warnings\n",
    "warnings.filterwarnings('ignore')\n",
    "x_best,y_best,x,y,model = BO(xgboost2perf,parameter,score,T,**bo_parameters)"
   ]
  },
  {
   "cell_type": "code",
   "execution_count": null,
   "metadata": {},
   "outputs": [],
   "source": []
  },
  {
   "cell_type": "code",
   "execution_count": 13,
   "metadata": {},
   "outputs": [
    {
     "data": {
      "text/html": [
       "<div>\n",
       "<style scoped>\n",
       "    .dataframe tbody tr th:only-of-type {\n",
       "        vertical-align: middle;\n",
       "    }\n",
       "\n",
       "    .dataframe tbody tr th {\n",
       "        vertical-align: top;\n",
       "    }\n",
       "\n",
       "    .dataframe thead th {\n",
       "        text-align: right;\n",
       "    }\n",
       "</style>\n",
       "<table border=\"1\" class=\"dataframe\">\n",
       "  <thead>\n",
       "    <tr style=\"text-align: right;\">\n",
       "      <th></th>\n",
       "      <th>learning_rate</th>\n",
       "      <th>max_depth</th>\n",
       "      <th>min_child_weight</th>\n",
       "      <th>gamma</th>\n",
       "      <th>alpha</th>\n",
       "      <th>reg_lambda</th>\n",
       "      <th>subsample</th>\n",
       "      <th>colsample_bytree</th>\n",
       "      <th>objective</th>\n",
       "      <th>tree_method</th>\n",
       "      <th>scores</th>\n",
       "    </tr>\n",
       "  </thead>\n",
       "  <tbody>\n",
       "    <tr>\n",
       "      <th>0</th>\n",
       "      <td>0.147024</td>\n",
       "      <td>4</td>\n",
       "      <td>70.555683</td>\n",
       "      <td>81.583557</td>\n",
       "      <td>97.686505</td>\n",
       "      <td>1.764679</td>\n",
       "      <td>0.985076</td>\n",
       "      <td>0.644647</td>\n",
       "      <td>count:poisson</td>\n",
       "      <td>hist</td>\n",
       "      <td>0.124375</td>\n",
       "    </tr>\n",
       "    <tr>\n",
       "      <th>0</th>\n",
       "      <td>0.176137</td>\n",
       "      <td>6</td>\n",
       "      <td>99.022384</td>\n",
       "      <td>54.493330</td>\n",
       "      <td>6.872106</td>\n",
       "      <td>62.703177</td>\n",
       "      <td>0.616812</td>\n",
       "      <td>0.316088</td>\n",
       "      <td>count:poisson</td>\n",
       "      <td>hist</td>\n",
       "      <td>0.126875</td>\n",
       "    </tr>\n",
       "    <tr>\n",
       "      <th>0</th>\n",
       "      <td>0.100881</td>\n",
       "      <td>2</td>\n",
       "      <td>76.159859</td>\n",
       "      <td>10.421766</td>\n",
       "      <td>95.815843</td>\n",
       "      <td>19.983223</td>\n",
       "      <td>0.801994</td>\n",
       "      <td>0.957193</td>\n",
       "      <td>count:poisson</td>\n",
       "      <td>hist</td>\n",
       "      <td>0.126891</td>\n",
       "    </tr>\n",
       "    <tr>\n",
       "      <th>0</th>\n",
       "      <td>0.297921</td>\n",
       "      <td>3</td>\n",
       "      <td>15.107730</td>\n",
       "      <td>40.495094</td>\n",
       "      <td>14.743448</td>\n",
       "      <td>41.523046</td>\n",
       "      <td>0.964602</td>\n",
       "      <td>0.425500</td>\n",
       "      <td>count:poisson</td>\n",
       "      <td>exact</td>\n",
       "      <td>0.127843</td>\n",
       "    </tr>\n",
       "    <tr>\n",
       "      <th>0</th>\n",
       "      <td>0.170058</td>\n",
       "      <td>5</td>\n",
       "      <td>40.726489</td>\n",
       "      <td>67.438718</td>\n",
       "      <td>87.992783</td>\n",
       "      <td>98.854587</td>\n",
       "      <td>0.603641</td>\n",
       "      <td>0.381499</td>\n",
       "      <td>count:poisson</td>\n",
       "      <td>hist</td>\n",
       "      <td>0.129025</td>\n",
       "    </tr>\n",
       "    <tr>\n",
       "      <th>...</th>\n",
       "      <td>...</td>\n",
       "      <td>...</td>\n",
       "      <td>...</td>\n",
       "      <td>...</td>\n",
       "      <td>...</td>\n",
       "      <td>...</td>\n",
       "      <td>...</td>\n",
       "      <td>...</td>\n",
       "      <td>...</td>\n",
       "      <td>...</td>\n",
       "      <td>...</td>\n",
       "    </tr>\n",
       "    <tr>\n",
       "      <th>0</th>\n",
       "      <td>0.587678</td>\n",
       "      <td>5</td>\n",
       "      <td>2.754033</td>\n",
       "      <td>97.491414</td>\n",
       "      <td>85.517532</td>\n",
       "      <td>38.658192</td>\n",
       "      <td>0.301558</td>\n",
       "      <td>0.686392</td>\n",
       "      <td>reg:absoluteerror</td>\n",
       "      <td>hist</td>\n",
       "      <td>0.401440</td>\n",
       "    </tr>\n",
       "    <tr>\n",
       "      <th>2</th>\n",
       "      <td>0.403225</td>\n",
       "      <td>3</td>\n",
       "      <td>38.475863</td>\n",
       "      <td>72.333209</td>\n",
       "      <td>41.717891</td>\n",
       "      <td>17.955389</td>\n",
       "      <td>0.535492</td>\n",
       "      <td>0.305701</td>\n",
       "      <td>reg:gamma</td>\n",
       "      <td>exact</td>\n",
       "      <td>0.402244</td>\n",
       "    </tr>\n",
       "    <tr>\n",
       "      <th>0</th>\n",
       "      <td>0.508482</td>\n",
       "      <td>7</td>\n",
       "      <td>39.145826</td>\n",
       "      <td>82.361468</td>\n",
       "      <td>30.970719</td>\n",
       "      <td>9.063373</td>\n",
       "      <td>0.863166</td>\n",
       "      <td>0.387076</td>\n",
       "      <td>reg:gamma</td>\n",
       "      <td>exact</td>\n",
       "      <td>0.404701</td>\n",
       "    </tr>\n",
       "    <tr>\n",
       "      <th>4</th>\n",
       "      <td>0.450057</td>\n",
       "      <td>5</td>\n",
       "      <td>7.628559</td>\n",
       "      <td>35.718665</td>\n",
       "      <td>33.163884</td>\n",
       "      <td>30.461418</td>\n",
       "      <td>0.627340</td>\n",
       "      <td>0.649008</td>\n",
       "      <td>reg:gamma</td>\n",
       "      <td>hist</td>\n",
       "      <td>0.404789</td>\n",
       "    </tr>\n",
       "    <tr>\n",
       "      <th>0</th>\n",
       "      <td>0.573681</td>\n",
       "      <td>15</td>\n",
       "      <td>46.062787</td>\n",
       "      <td>83.192417</td>\n",
       "      <td>14.487020</td>\n",
       "      <td>41.365179</td>\n",
       "      <td>0.791773</td>\n",
       "      <td>0.401573</td>\n",
       "      <td>reg:gamma</td>\n",
       "      <td>hist</td>\n",
       "      <td>0.407356</td>\n",
       "    </tr>\n",
       "  </tbody>\n",
       "</table>\n",
       "<p>210 rows × 11 columns</p>\n",
       "</div>"
      ],
      "text/plain": [
       "    learning_rate  max_depth  min_child_weight      gamma      alpha  \\\n",
       "0        0.147024          4         70.555683  81.583557  97.686505   \n",
       "0        0.176137          6         99.022384  54.493330   6.872106   \n",
       "0        0.100881          2         76.159859  10.421766  95.815843   \n",
       "0        0.297921          3         15.107730  40.495094  14.743448   \n",
       "0        0.170058          5         40.726489  67.438718  87.992783   \n",
       "..            ...        ...               ...        ...        ...   \n",
       "0        0.587678          5          2.754033  97.491414  85.517532   \n",
       "2        0.403225          3         38.475863  72.333209  41.717891   \n",
       "0        0.508482          7         39.145826  82.361468  30.970719   \n",
       "4        0.450057          5          7.628559  35.718665  33.163884   \n",
       "0        0.573681         15         46.062787  83.192417  14.487020   \n",
       "\n",
       "    reg_lambda  subsample  colsample_bytree          objective tree_method  \\\n",
       "0     1.764679   0.985076          0.644647      count:poisson        hist   \n",
       "0    62.703177   0.616812          0.316088      count:poisson        hist   \n",
       "0    19.983223   0.801994          0.957193      count:poisson        hist   \n",
       "0    41.523046   0.964602          0.425500      count:poisson       exact   \n",
       "0    98.854587   0.603641          0.381499      count:poisson        hist   \n",
       "..         ...        ...               ...                ...         ...   \n",
       "0    38.658192   0.301558          0.686392  reg:absoluteerror        hist   \n",
       "2    17.955389   0.535492          0.305701          reg:gamma       exact   \n",
       "0     9.063373   0.863166          0.387076          reg:gamma       exact   \n",
       "4    30.461418   0.627340          0.649008          reg:gamma        hist   \n",
       "0    41.365179   0.791773          0.401573          reg:gamma        hist   \n",
       "\n",
       "      scores  \n",
       "0   0.124375  \n",
       "0   0.126875  \n",
       "0   0.126891  \n",
       "0   0.127843  \n",
       "0   0.129025  \n",
       "..       ...  \n",
       "0   0.401440  \n",
       "2   0.402244  \n",
       "0   0.404701  \n",
       "4   0.404789  \n",
       "0   0.407356  \n",
       "\n",
       "[210 rows x 11 columns]"
      ]
     },
     "execution_count": 13,
     "metadata": {},
     "output_type": "execute_result"
    }
   ],
   "source": [
    "pd.concat([x,y],1).sort_values(by=['scores'])"
   ]
  },
  {
   "cell_type": "code",
   "execution_count": null,
   "metadata": {},
   "outputs": [],
   "source": []
  },
  {
   "cell_type": "code",
   "execution_count": null,
   "metadata": {},
   "outputs": [
    {
     "name": "stdout",
     "output_type": "stream",
     "text": [
      "best val is 0.12437457562667197 at iter 10\n",
      "best val is 0.12437457562667197 at iter 20\n",
      "best val is 0.12437457562667197 at iter 30\n",
      "best val is 0.12437457562667197 at iter 40\n",
      "best val is 0.12437457562667197 at iter 50\n",
      "best val is 0.12437457562667197 at iter 60\n",
      "best val is 0.12437457562667197 at iter 70\n",
      "best val is 0.12437457562667197 at iter 80\n",
      "best val is 0.12437457562667197 at iter 90\n",
      "best val is 0.12437457562667197 at iter 100\n",
      "best val is 0.12437457562667197 at iter 110\n",
      "best val is 0.12437457562667197 at iter 120\n",
      "best val is 0.12437457562667197 at iter 130\n"
     ]
    }
   ],
   "source": [
    "x_best,y_best,x,y,model = BO(xgboost2perf,x,y,T,**bo_parameters)"
   ]
  },
  {
   "cell_type": "code",
   "execution_count": null,
   "metadata": {},
   "outputs": [],
   "source": [
    "pd.concat([x,y],1).sort_values(by=['scores'])"
   ]
  },
  {
   "cell_type": "code",
   "execution_count": null,
   "metadata": {},
   "outputs": [],
   "source": [
    "x.to_csv('bo_x.csv'); y.to_csv('bo_y.csv')"
   ]
  },
  {
   "cell_type": "code",
   "execution_count": null,
   "metadata": {},
   "outputs": [],
   "source": []
  }
 ],
 "metadata": {
  "kernelspec": {
   "display_name": "Python 3 (ipykernel)",
   "language": "python",
   "name": "python3"
  },
  "language_info": {
   "codemirror_mode": {
    "name": "ipython",
    "version": 3
   },
   "file_extension": ".py",
   "mimetype": "text/x-python",
   "name": "python",
   "nbconvert_exporter": "python",
   "pygments_lexer": "ipython3",
   "version": "3.10.9"
  }
 },
 "nbformat": 4,
 "nbformat_minor": 4
}
